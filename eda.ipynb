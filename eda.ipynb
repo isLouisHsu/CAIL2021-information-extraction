{
 "cells": [
  {
   "cell_type": "code",
   "execution_count": 1,
   "id": "b4b97799",
   "metadata": {},
   "outputs": [],
   "source": [
    "import utils\n",
    "from itertools import chain\n",
    "from collections import Counter"
   ]
  },
  {
   "cell_type": "code",
   "execution_count": 2,
   "id": "7f5b6bc8",
   "metadata": {},
   "outputs": [],
   "source": [
    "raw = utils.load_raw(\"./data/信息抽取_第一阶段/xxcq_small.json\")"
   ]
  },
  {
   "cell_type": "markdown",
   "id": "05721557",
   "metadata": {},
   "source": [
    "## 文本长度统计"
   ]
  },
  {
   "cell_type": "code",
   "execution_count": 3,
   "id": "ca275acc",
   "metadata": {},
   "outputs": [],
   "source": [
    "text_lengths = [len(line[\"text\"]) for line in raw]"
   ]
  },
  {
   "cell_type": "code",
   "execution_count": 4,
   "id": "aa27c0a6",
   "metadata": {},
   "outputs": [
    {
     "name": "stdout",
     "output_type": "stream",
     "text": [
      "7 439\n"
     ]
    }
   ],
   "source": [
    "print(min(text_lengths), max(text_lengths))"
   ]
  },
  {
   "cell_type": "markdown",
   "id": "6ab1642c",
   "metadata": {},
   "source": [
    "## 标签统计"
   ]
  },
  {
   "cell_type": "code",
   "execution_count": 5,
   "id": "1a2a06b9",
   "metadata": {},
   "outputs": [
    {
     "data": {
      "text/plain": [
       "{'NHCS': '犯罪嫌疑人',\n",
       " 'NHVI': '受害人',\n",
       " 'NCSM': '被盗货币',\n",
       " 'NCGV': '物品价值',\n",
       " 'NCSP': '盗窃获利',\n",
       " 'NASI': '被盗物品',\n",
       " 'NATS': '作案工具',\n",
       " 'NT': '时间',\n",
       " 'NS': '地点',\n",
       " 'NO': '组织机构'}"
      ]
     },
     "execution_count": 5,
     "metadata": {},
     "output_type": "execute_result"
    }
   ],
   "source": [
    "utils.LABEL_MEANING_MAP"
   ]
  },
  {
   "cell_type": "code",
   "execution_count": 6,
   "id": "6f52452e",
   "metadata": {},
   "outputs": [],
   "source": [
    "entities = [line[\"entities\"] for line in raw]\n",
    "flatten_entities = list(chain(*entities))"
   ]
  },
  {
   "cell_type": "code",
   "execution_count": 7,
   "id": "cd9e3503",
   "metadata": {},
   "outputs": [],
   "source": [
    "entity_types = [entity[0] for entity in flatten_entities]"
   ]
  },
  {
   "cell_type": "code",
   "execution_count": 8,
   "id": "45d3efdb",
   "metadata": {},
   "outputs": [
    {
     "data": {
      "text/plain": [
       "Counter({'NHCS': 2935,\n",
       "         'NHVI': 1299,\n",
       "         'NASI': 2555,\n",
       "         'NT': 1226,\n",
       "         'NS': 1580,\n",
       "         'NCGV': 947,\n",
       "         'NO': 346,\n",
       "         'NATS': 294,\n",
       "         'NCSP': 186,\n",
       "         'NCSM': 418})"
      ]
     },
     "execution_count": 8,
     "metadata": {},
     "output_type": "execute_result"
    }
   ],
   "source": [
    "Counter(entity_types)"
   ]
  },
  {
   "cell_type": "code",
   "execution_count": 9,
   "id": "62c6d6bc",
   "metadata": {},
   "outputs": [],
   "source": [
    "entities_text_lengths = [len(entity[-1]) for entity in flatten_entities]"
   ]
  },
  {
   "cell_type": "code",
   "execution_count": 12,
   "id": "56942bae",
   "metadata": {},
   "outputs": [
    {
     "data": {
      "text/plain": [
       "[(1, 22),\n",
       " (2, 565),\n",
       " (3, 4337),\n",
       " (4, 764),\n",
       " (5, 725),\n",
       " (6, 476),\n",
       " (7, 595),\n",
       " (8, 651),\n",
       " (9, 504),\n",
       " (10, 415),\n",
       " (11, 397),\n",
       " (12, 428),\n",
       " (13, 311),\n",
       " (14, 311),\n",
       " (15, 241),\n",
       " (16, 173),\n",
       " (17, 162),\n",
       " (18, 120),\n",
       " (19, 99),\n",
       " (20, 95),\n",
       " (21, 70),\n",
       " (22, 67),\n",
       " (23, 70),\n",
       " (24, 37),\n",
       " (25, 28),\n",
       " (26, 29),\n",
       " (27, 21),\n",
       " (28, 21),\n",
       " (29, 10),\n",
       " (30, 5),\n",
       " (31, 10),\n",
       " (32, 6),\n",
       " (33, 4),\n",
       " (34, 4),\n",
       " (35, 4),\n",
       " (36, 1),\n",
       " (37, 1),\n",
       " (38, 1),\n",
       " (39, 1),\n",
       " (40, 2),\n",
       " (44, 1),\n",
       " (45, 1),\n",
       " (57, 1)]"
      ]
     },
     "execution_count": 12,
     "metadata": {},
     "output_type": "execute_result"
    }
   ],
   "source": [
    "sorted(Counter(entities_text_lengths).items(), key=lambda x: x[0])"
   ]
  },
  {
   "cell_type": "code",
   "execution_count": 10,
   "id": "8b4de74d",
   "metadata": {},
   "outputs": [
    {
     "name": "stdout",
     "output_type": "stream",
     "text": [
      "1 57\n"
     ]
    }
   ],
   "source": [
    "print(min(entities_text_lengths), max(entities_text_lengths))"
   ]
  }
 ],
 "metadata": {
  "kernelspec": {
   "display_name": "Python 3",
   "language": "python",
   "name": "python3"
  },
  "language_info": {
   "codemirror_mode": {
    "name": "ipython",
    "version": 3
   },
   "file_extension": ".py",
   "mimetype": "text/x-python",
   "name": "python",
   "nbconvert_exporter": "python",
   "pygments_lexer": "ipython3",
   "version": "3.8.5"
  }
 },
 "nbformat": 4,
 "nbformat_minor": 5
}
