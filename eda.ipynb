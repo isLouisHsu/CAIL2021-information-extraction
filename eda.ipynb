{
 "cells": [
  {
   "cell_type": "code",
   "execution_count": 1,
   "metadata": {},
   "outputs": [],
   "source": [
    "import utils\n",
    "from itertools import chain\n",
    "from collections import Counter, defaultdict"
   ]
  },
  {
   "cell_type": "code",
   "execution_count": 2,
   "metadata": {},
   "outputs": [],
   "source": [
    "# raw = utils.load_raw(\"./data/信息抽取_第一阶段/xxcq_small.json\")\n",
    "raw = utils.load_raw(\"./data/信息抽取_第二阶段/xxcq_mid.json\")"
   ]
  },
  {
   "cell_type": "markdown",
   "metadata": {},
   "source": [
    "## 文本长度统计"
   ]
  },
  {
   "cell_type": "code",
   "execution_count": 3,
   "metadata": {},
   "outputs": [],
   "source": [
    "text_lengths = [len(line[\"text\"]) for line in raw]"
   ]
  },
  {
   "cell_type": "code",
   "execution_count": 4,
   "metadata": {},
   "outputs": [
    {
     "name": "stdout",
     "output_type": "stream",
     "text": [
      "5 439\n"
     ]
    }
   ],
   "source": [
    "print(min(text_lengths), max(text_lengths))"
   ]
  },
  {
   "cell_type": "markdown",
   "metadata": {},
   "source": [
    "## 标签统计"
   ]
  },
  {
   "cell_type": "code",
   "execution_count": 5,
   "metadata": {},
   "outputs": [
    {
     "data": {
      "text/plain": "{'NHCS': '犯罪嫌疑人',\n 'NHVI': '受害人',\n 'NCSM': '被盗货币',\n 'NCGV': '物品价值',\n 'NCSP': '盗窃获利',\n 'NASI': '被盗物品',\n 'NATS': '作案工具',\n 'NT': '时间',\n 'NS': '地点',\n 'NO': '组织机构'}"
     },
     "execution_count": 5,
     "metadata": {},
     "output_type": "execute_result"
    }
   ],
   "source": [
    "utils.LABEL_MEANING_MAP"
   ]
  },
  {
   "cell_type": "code",
   "execution_count": 6,
   "metadata": {},
   "outputs": [],
   "source": [
    "entities = [line[\"entities\"] for line in raw]\n",
    "flatten_entities = list(chain(*entities))"
   ]
  },
  {
   "cell_type": "code",
   "execution_count": 7,
   "metadata": {},
   "outputs": [],
   "source": [
    "entity_types = [entity[0] for entity in flatten_entities]"
   ]
  },
  {
   "cell_type": "code",
   "execution_count": 8,
   "metadata": {},
   "outputs": [
    {
     "data": {
      "text/plain": "('NHVI', 22, 24, '严某某')"
     },
     "execution_count": 8,
     "metadata": {},
     "output_type": "execute_result"
    }
   ],
   "source": [
    "flatten_entities[0]"
   ]
  },
  {
   "cell_type": "code",
   "execution_count": 9,
   "metadata": {},
   "outputs": [
    {
     "data": {
      "text/plain": "Counter({'NHVI': 3108,\n         'NASI': 5781,\n         'NO': 806,\n         'NHCS': 6463,\n         'NCGV': 2090,\n         'NT': 2765,\n         'NS': 3517,\n         'NCSM': 915,\n         'NATS': 735,\n         'NCSP': 481})"
     },
     "execution_count": 9,
     "metadata": {},
     "output_type": "execute_result"
    }
   ],
   "source": [
    "Counter(entity_types)"
   ]
  },
  {
   "cell_type": "code",
   "execution_count": 10,
   "metadata": {},
   "outputs": [],
   "source": [
    "entities_text_lengths = [len(entity[-1]) for entity in flatten_entities]"
   ]
  },
  {
   "cell_type": "code",
   "execution_count": 11,
   "metadata": {},
   "outputs": [
    {
     "data": {
      "text/plain": "[(1, 79),\n (2, 1273),\n (3, 9809),\n (4, 1825),\n (5, 1468),\n (6, 1101),\n (7, 1366),\n (8, 1512),\n (9, 1090),\n (10, 962),\n (11, 851),\n (12, 1000),\n (13, 724),\n (14, 714),\n (15, 581),\n (16, 410),\n (17, 355),\n (18, 276),\n (19, 219),\n (20, 203),\n (21, 154),\n (22, 130),\n (23, 129),\n (24, 86),\n (25, 66),\n (26, 62),\n (27, 51),\n (28, 37),\n (29, 23),\n (30, 17),\n (31, 21),\n (32, 16),\n (33, 7),\n (34, 10),\n (35, 7),\n (36, 6),\n (37, 5),\n (38, 1),\n (39, 2),\n (40, 3),\n (41, 1),\n (43, 1),\n (44, 1),\n (45, 1),\n (51, 1),\n (53, 1),\n (57, 1),\n (60, 1),\n (65, 1),\n (68, 1)]"
     },
     "execution_count": 11,
     "metadata": {},
     "output_type": "execute_result"
    }
   ],
   "source": [
    "sorted(Counter(entities_text_lengths).items(), key=lambda x: x[0])"
   ]
  },
  {
   "cell_type": "code",
   "execution_count": 12,
   "metadata": {},
   "outputs": [],
   "source": [
    "label_entities_map = defaultdict(list)\n",
    "for entity in flatten_entities:\n",
    "    label_entities_map[entity[0]].append(entity[-1])"
   ]
  },
  {
   "cell_type": "code",
   "execution_count": 13,
   "metadata": {},
   "outputs": [
    {
     "name": "stdout",
     "output_type": "stream",
     "text": [
      "NHVI 受害人\n",
      "[(1, 3), (2, 55), (3, 3021), (4, 18), (5, 4), (6, 2), (7, 1), (8, 1), (12, 1), (16, 1), (18, 1)]\n",
      "NASI 被盗物品\n",
      "[(1, 46), (2, 558), (3, 482), (4, 816), (5, 600), (6, 471), (7, 467), (8, 396), (9, 310), (10, 320), (11, 235), (12, 215), (13, 153), (14, 126), (15, 102), (16, 81), (17, 63), (18, 56), (19, 38), (20, 45), (21, 39), (22, 22), (23, 18), (24, 14), (25, 14), (26, 19), (27, 14), (28, 9), (29, 4), (30, 10), (31, 6), (32, 4), (33, 3), (35, 3), (36, 5), (37, 2), (38, 1), (39, 2), (40, 3), (43, 1), (44, 1), (45, 1), (51, 1), (53, 1), (57, 1), (60, 1), (65, 1), (68, 1)]\n",
      "NO 组织机构\n",
      "[(2, 1), (3, 15), (4, 216), (5, 25), (6, 94), (7, 13), (8, 29), (9, 199), (10, 33), (11, 48), (12, 64), (13, 18), (14, 8), (15, 11), (16, 8), (17, 9), (18, 3), (19, 1), (20, 4), (21, 1), (22, 3), (24, 2), (25, 1)]\n",
      "NHCS 犯罪嫌疑人\n",
      "[(1, 12), (2, 383), (3, 5908), (4, 98), (5, 26), (6, 14), (7, 5), (8, 5), (9, 9), (18, 3)]\n",
      "NCGV 物品价值\n",
      "[(2, 2), (3, 32), (4, 227), (5, 365), (6, 140), (7, 436), (8, 641), (9, 134), (10, 63), (11, 37), (12, 7), (13, 2), (15, 2), (19, 1), (20, 1)]\n",
      "NT 时间\n",
      "[(2, 20), (3, 8), (4, 21), (5, 25), (6, 22), (7, 74), (8, 53), (9, 130), (10, 286), (11, 306), (12, 510), (13, 366), (14, 396), (15, 239), (16, 126), (17, 85), (18, 36), (19, 15), (20, 14), (21, 10), (22, 7), (23, 8), (24, 5), (26, 1), (32, 1), (34, 1)]\n",
      "NS 地点\n",
      "[(2, 41), (3, 90), (4, 168), (5, 168), (6, 169), (7, 127), (8, 133), (9, 171), (10, 127), (11, 161), (12, 175), (13, 161), (14, 178), (15, 209), (16, 188), (17, 193), (18, 172), (19, 161), (20, 132), (21, 102), (22, 97), (23, 103), (24, 63), (25, 51), (26, 40), (27, 37), (28, 28), (29, 19), (30, 7), (31, 15), (32, 11), (33, 4), (34, 9), (35, 2), (36, 1), (37, 3), (41, 1)]\n",
      "NCSM 被盗货币\n",
      "[(2, 23), (3, 9), (4, 36), (5, 68), (6, 145), (7, 153), (8, 171), (9, 117), (10, 109), (11, 43), (12, 19), (13, 12), (14, 3), (15, 3), (17, 2), (35, 2)]\n",
      "NATS 作案工具\n",
      "[(1, 18), (2, 190), (3, 216), (4, 81), (5, 78), (6, 11), (7, 15), (8, 14), (9, 9), (10, 21), (11, 14), (12, 8), (13, 12), (14, 3), (15, 14), (16, 6), (17, 3), (18, 5), (19, 3), (20, 7), (21, 2), (22, 1), (24, 2), (26, 2)]\n",
      "NCSP 盗窃获利\n",
      "[(3, 28), (4, 144), (5, 109), (6, 33), (7, 75), (8, 69), (9, 11), (10, 3), (11, 7), (12, 1), (15, 1)]\n"
     ]
    }
   ],
   "source": [
    "for label, entities in label_entities_map.items():\n",
    "    print(label, utils.LABEL_MEANING_MAP[label])\n",
    "    counter = Counter([len(entity) for entity in entities])\n",
    "    print(sorted(counter.items(), key=lambda x: x[0]))\n",
    "    entities = sorted(list(set(entities)), key=len)\n",
    "    with open(f\"tmp/{label}_{utils.LABEL_MEANING_MAP[label]}.txt\", \"w\") as f:\n",
    "        f.writelines([entity + \"\\n\" for entity in entities])"
   ]
  }
 ],
 "metadata": {
  "kernelspec": {
   "display_name": "Python 3.8.5 64-bit ('cv': conda)",
   "name": "python3"
  },
  "language_info": {
   "codemirror_mode": {
    "name": "ipython",
    "version": 3
   },
   "file_extension": ".py",
   "mimetype": "text/x-python",
   "name": "python",
   "nbconvert_exporter": "python",
   "pygments_lexer": "ipython3",
   "version": "3.8.5"
  }
 },
 "nbformat": 4,
 "nbformat_minor": 5
}