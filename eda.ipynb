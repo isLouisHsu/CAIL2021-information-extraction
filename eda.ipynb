{
 "cells": [
  {
   "cell_type": "code",
   "execution_count": 1,
   "metadata": {},
   "outputs": [],
   "source": [
    "import utils\n",
    "from itertools import chain\n",
    "from collections import Counter, defaultdict"
   ]
  },
  {
   "cell_type": "code",
   "execution_count": 2,
   "metadata": {},
   "outputs": [],
   "source": [
    "raw = utils.load_raw(\"./data/信息抽取_第一阶段/xxcq_small.json\")"
   ]
  },
  {
   "cell_type": "markdown",
   "metadata": {},
   "source": [
    "## 文本长度统计"
   ]
  },
  {
   "cell_type": "code",
   "execution_count": 3,
   "metadata": {},
   "outputs": [],
   "source": [
    "text_lengths = [len(line[\"text\"]) for line in raw]"
   ]
  },
  {
   "cell_type": "code",
   "execution_count": 4,
   "metadata": {},
   "outputs": [
    {
     "name": "stdout",
     "output_type": "stream",
     "text": [
      "7 439\n"
     ]
    }
   ],
   "source": [
    "print(min(text_lengths), max(text_lengths))"
   ]
  },
  {
   "cell_type": "markdown",
   "metadata": {},
   "source": [
    "## 标签统计"
   ]
  },
  {
   "cell_type": "code",
   "execution_count": 5,
   "metadata": {},
   "outputs": [
    {
     "data": {
      "text/plain": [
       "{'NHCS': '犯罪嫌疑人',\n",
       " 'NHVI': '受害人',\n",
       " 'NCSM': '被盗货币',\n",
       " 'NCGV': '物品价值',\n",
       " 'NCSP': '盗窃获利',\n",
       " 'NASI': '被盗物品',\n",
       " 'NATS': '作案工具',\n",
       " 'NT': '时间',\n",
       " 'NS': '地点',\n",
       " 'NO': '组织机构'}"
      ]
     },
     "execution_count": 5,
     "metadata": {},
     "output_type": "execute_result"
    }
   ],
   "source": [
    "utils.LABEL_MEANING_MAP"
   ]
  },
  {
   "cell_type": "code",
   "execution_count": 6,
   "metadata": {},
   "outputs": [],
   "source": [
    "entities = [line[\"entities\"] for line in raw]\n",
    "flatten_entities = list(chain(*entities))"
   ]
  },
  {
   "cell_type": "code",
   "execution_count": 7,
   "metadata": {},
   "outputs": [],
   "source": [
    "entity_types = [entity[0] for entity in flatten_entities]"
   ]
  },
  {
   "cell_type": "code",
   "execution_count": 8,
   "metadata": {},
   "outputs": [
    {
     "data": {
      "text/plain": [
       "('NHCS', 3, 5, '朱某某')"
      ]
     },
     "execution_count": 8,
     "metadata": {},
     "output_type": "execute_result"
    }
   ],
   "source": [
    "flatten_entities[0]"
   ]
  },
  {
   "cell_type": "code",
   "execution_count": 9,
   "metadata": {},
   "outputs": [
    {
     "data": {
      "text/plain": [
       "Counter({'NHCS': 2935,\n",
       "         'NHVI': 1299,\n",
       "         'NASI': 2555,\n",
       "         'NT': 1226,\n",
       "         'NS': 1580,\n",
       "         'NCGV': 947,\n",
       "         'NO': 346,\n",
       "         'NATS': 294,\n",
       "         'NCSP': 186,\n",
       "         'NCSM': 418})"
      ]
     },
     "execution_count": 9,
     "metadata": {},
     "output_type": "execute_result"
    }
   ],
   "source": [
    "Counter(entity_types)"
   ]
  },
  {
   "cell_type": "code",
   "execution_count": 10,
   "metadata": {},
   "outputs": [],
   "source": [
    "entities_text_lengths = [len(entity[-1]) for entity in flatten_entities]"
   ]
  },
  {
   "cell_type": "code",
   "execution_count": 11,
   "metadata": {},
   "outputs": [
    {
     "data": {
      "text/plain": [
       "[(1, 22),\n",
       " (2, 565),\n",
       " (3, 4337),\n",
       " (4, 764),\n",
       " (5, 725),\n",
       " (6, 476),\n",
       " (7, 595),\n",
       " (8, 651),\n",
       " (9, 504),\n",
       " (10, 415),\n",
       " (11, 397),\n",
       " (12, 428),\n",
       " (13, 311),\n",
       " (14, 311),\n",
       " (15, 241),\n",
       " (16, 173),\n",
       " (17, 162),\n",
       " (18, 120),\n",
       " (19, 99),\n",
       " (20, 95),\n",
       " (21, 70),\n",
       " (22, 67),\n",
       " (23, 70),\n",
       " (24, 37),\n",
       " (25, 28),\n",
       " (26, 29),\n",
       " (27, 21),\n",
       " (28, 21),\n",
       " (29, 10),\n",
       " (30, 5),\n",
       " (31, 10),\n",
       " (32, 6),\n",
       " (33, 4),\n",
       " (34, 4),\n",
       " (35, 4),\n",
       " (36, 1),\n",
       " (37, 1),\n",
       " (38, 1),\n",
       " (39, 1),\n",
       " (40, 2),\n",
       " (44, 1),\n",
       " (45, 1),\n",
       " (57, 1)]"
      ]
     },
     "execution_count": 11,
     "metadata": {},
     "output_type": "execute_result"
    }
   ],
   "source": [
    "sorted(Counter(entities_text_lengths).items(), key=lambda x: x[0])"
   ]
  },
  {
   "cell_type": "code",
   "execution_count": 12,
   "metadata": {},
   "outputs": [],
   "source": [
    "label_entities_map = defaultdict(list)\n",
    "for entity in flatten_entities:\n",
    "    label_entities_map[entity[0]].append(entity[-1])"
   ]
  },
  {
   "cell_type": "code",
   "execution_count": 13,
   "metadata": {},
   "outputs": [
    {
     "name": "stdout",
     "output_type": "stream",
     "text": [
      "NHCS 犯罪嫌疑人\n",
      "[(1, 1), (2, 162), (3, 2711), (4, 28), (5, 19), (6, 1), (7, 4), (9, 9)]\n",
      "NHVI 受害人\n",
      "[(2, 20), (3, 1274), (4, 4), (8, 1)]\n",
      "NASI 被盗物品\n",
      "[(1, 21), (2, 267), (3, 199), (4, 342), (5, 275), (6, 199), (7, 203), (8, 190), (9, 139), (10, 146), (11, 112), (12, 101), (13, 71), (14, 60), (15, 32), (16, 25), (17, 33), (18, 26), (19, 13), (20, 16), (21, 17), (22, 8), (23, 10), (24, 5), (25, 5), (26, 9), (27, 6), (28, 5), (29, 2), (30, 4), (31, 2), (32, 2), (33, 1), (35, 2), (38, 1), (39, 1), (40, 2), (44, 1), (45, 1), (57, 1)]\n",
      "NT 时间\n",
      "[(2, 6), (3, 6), (4, 7), (5, 12), (6, 10), (7, 32), (8, 30), (9, 79), (10, 136), (11, 147), (12, 215), (13, 150), (14, 155), (15, 105), (16, 62), (17, 37), (18, 14), (19, 5), (20, 4), (21, 1), (22, 7), (23, 3), (24, 1), (26, 1), (32, 1)]\n",
      "NS 地点\n",
      "[(2, 21), (3, 28), (4, 71), (5, 99), (6, 83), (7, 62), (8, 53), (9, 63), (10, 39), (11, 69), (12, 70), (13, 69), (14, 91), (15, 87), (16, 74), (17, 87), (18, 78), (19, 78), (20, 68), (21, 50), (22, 52), (23, 57), (24, 30), (25, 23), (26, 18), (27, 15), (28, 16), (29, 8), (30, 1), (31, 8), (32, 3), (33, 3), (34, 4), (36, 1), (37, 1)]\n",
      "NCGV 物品价值\n",
      "[(3, 15), (4, 122), (5, 194), (6, 64), (7, 187), (8, 255), (9, 67), (10, 19), (11, 20), (12, 2), (13, 1), (20, 1)]\n",
      "NO 组织机构\n",
      "[(3, 1), (4, 81), (5, 15), (6, 45), (7, 6), (8, 18), (9, 94), (10, 21), (11, 17), (12, 22), (13, 6), (14, 3), (15, 5), (16, 6), (17, 3), (18, 2), (20, 1)]\n",
      "NATS 作案工具\n",
      "[(2, 80), (3, 83), (4, 28), (5, 32), (6, 7), (7, 6), (8, 7), (9, 2), (10, 2), (11, 5), (12, 6), (13, 9), (15, 9), (16, 6), (19, 3), (20, 5), (21, 2), (24, 1), (26, 1)]\n",
      "NCSP 盗窃获利\n",
      "[(3, 13), (4, 58), (5, 46), (6, 12), (7, 25), (8, 23), (9, 4), (10, 1), (11, 3), (15, 1)]\n",
      "NCSM 被盗货币\n",
      "[(2, 9), (3, 7), (4, 23), (5, 33), (6, 55), (7, 70), (8, 74), (9, 47), (10, 51), (11, 24), (12, 12), (13, 5), (14, 2), (15, 2), (17, 2), (35, 2)]\n"
     ]
    }
   ],
   "source": [
    "for label, entities in label_entities_map.items():\n",
    "    print(label, utils.LABEL_MEANING_MAP[label])\n",
    "    counter = Counter([len(entity) for entity in entities])\n",
    "    print(sorted(counter.items(), key=lambda x: x[0]))\n",
    "    entities = sorted(list(set(entities)), key=len)\n",
    "    with open(f\"tmp/{label}_{utils.LABEL_MEANING_MAP[label]}.txt\", \"w\") as f:\n",
    "        f.writelines([entity + \"\\n\" for entity in entities])"
   ]
  }
 ],
 "metadata": {
  "kernelspec": {
   "display_name": "Python 3",
   "language": "python",
   "name": "python3"
  },
  "language_info": {
   "codemirror_mode": {
    "name": "ipython",
    "version": 3
   },
   "file_extension": ".py",
   "mimetype": "text/x-python",
   "name": "python",
   "nbconvert_exporter": "python",
   "pygments_lexer": "ipython3",
   "version": "3.8.5"
  }
 },
 "nbformat": 4,
 "nbformat_minor": 5
}
