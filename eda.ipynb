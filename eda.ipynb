{
 "cells": [
  {
   "cell_type": "code",
   "execution_count": 1,
   "id": "42482b6a",
   "metadata": {},
   "outputs": [],
   "source": [
    "import utils\n",
    "from itertools import chain\n",
    "from collections import Counter, defaultdict"
   ]
  },
  {
   "cell_type": "code",
   "execution_count": 2,
   "id": "e534daf4",
   "metadata": {},
   "outputs": [],
   "source": [
    "raw = utils.load_raw(\"./data/信息抽取_第一阶段/xxcq_small.json\")"
   ]
  },
  {
   "cell_type": "markdown",
   "id": "e6469600",
   "metadata": {},
   "source": [
    "## 文本长度统计"
   ]
  },
  {
   "cell_type": "code",
   "execution_count": 3,
   "id": "f7ac750c",
   "metadata": {},
   "outputs": [],
   "source": [
    "text_lengths = [len(line[\"text\"]) for line in raw]"
   ]
  },
  {
   "cell_type": "code",
   "execution_count": 4,
   "id": "71da647b",
   "metadata": {},
   "outputs": [
    {
     "name": "stdout",
     "output_type": "stream",
     "text": [
      "7 439\n"
     ]
    }
   ],
   "source": [
    "print(min(text_lengths), max(text_lengths))"
   ]
  },
  {
   "cell_type": "markdown",
   "id": "de0910b0",
   "metadata": {},
   "source": [
    "## 标签统计"
   ]
  },
  {
   "cell_type": "code",
   "execution_count": 5,
   "id": "60120294",
   "metadata": {},
   "outputs": [
    {
     "data": {
      "text/plain": [
       "{'NHCS': '犯罪嫌疑人',\n",
       " 'NHVI': '受害人',\n",
       " 'NCSM': '被盗货币',\n",
       " 'NCGV': '物品价值',\n",
       " 'NCSP': '盗窃获利',\n",
       " 'NASI': '被盗物品',\n",
       " 'NATS': '作案工具',\n",
       " 'NT': '时间',\n",
       " 'NS': '地点',\n",
       " 'NO': '组织机构'}"
      ]
     },
     "execution_count": 5,
     "metadata": {},
     "output_type": "execute_result"
    }
   ],
   "source": [
    "utils.LABEL_MEANING_MAP"
   ]
  },
  {
   "cell_type": "code",
   "execution_count": 6,
   "id": "87c78261",
   "metadata": {},
   "outputs": [],
   "source": [
    "entities = [line[\"entities\"] for line in raw]\n",
    "flatten_entities = list(chain(*entities))"
   ]
  },
  {
   "cell_type": "code",
   "execution_count": 7,
   "id": "b3b997bd",
   "metadata": {},
   "outputs": [],
   "source": [
    "entity_types = [entity[0] for entity in flatten_entities]"
   ]
  },
  {
   "cell_type": "code",
   "execution_count": 8,
   "id": "d210524a",
   "metadata": {},
   "outputs": [
    {
     "data": {
      "text/plain": [
       "('NHCS', 3, 5, '朱某某')"
      ]
     },
     "execution_count": 8,
     "metadata": {},
     "output_type": "execute_result"
    }
   ],
   "source": [
    "flatten_entities[0]"
   ]
  },
  {
   "cell_type": "code",
   "execution_count": 9,
   "id": "4f9680c8",
   "metadata": {},
   "outputs": [
    {
     "data": {
      "text/plain": [
       "Counter({'NHCS': 2935,\n",
       "         'NHVI': 1299,\n",
       "         'NASI': 2555,\n",
       "         'NT': 1226,\n",
       "         'NS': 1580,\n",
       "         'NCGV': 947,\n",
       "         'NO': 346,\n",
       "         'NATS': 294,\n",
       "         'NCSP': 186,\n",
       "         'NCSM': 418})"
      ]
     },
     "execution_count": 9,
     "metadata": {},
     "output_type": "execute_result"
    }
   ],
   "source": [
    "Counter(entity_types)"
   ]
  },
  {
   "cell_type": "code",
   "execution_count": 10,
   "id": "324d63d6",
   "metadata": {},
   "outputs": [],
   "source": [
    "entities_text_lengths = [len(entity[-1]) for entity in flatten_entities]"
   ]
  },
  {
   "cell_type": "code",
   "execution_count": 11,
   "id": "0aec0c72",
   "metadata": {},
   "outputs": [
    {
     "data": {
      "text/plain": [
       "[(1, 22),\n",
       " (2, 565),\n",
       " (3, 4337),\n",
       " (4, 764),\n",
       " (5, 725),\n",
       " (6, 476),\n",
       " (7, 595),\n",
       " (8, 651),\n",
       " (9, 504),\n",
       " (10, 415),\n",
       " (11, 397),\n",
       " (12, 428),\n",
       " (13, 311),\n",
       " (14, 311),\n",
       " (15, 241),\n",
       " (16, 173),\n",
       " (17, 162),\n",
       " (18, 120),\n",
       " (19, 99),\n",
       " (20, 95),\n",
       " (21, 70),\n",
       " (22, 67),\n",
       " (23, 70),\n",
       " (24, 37),\n",
       " (25, 28),\n",
       " (26, 29),\n",
       " (27, 21),\n",
       " (28, 21),\n",
       " (29, 10),\n",
       " (30, 5),\n",
       " (31, 10),\n",
       " (32, 6),\n",
       " (33, 4),\n",
       " (34, 4),\n",
       " (35, 4),\n",
       " (36, 1),\n",
       " (37, 1),\n",
       " (38, 1),\n",
       " (39, 1),\n",
       " (40, 2),\n",
       " (44, 1),\n",
       " (45, 1),\n",
       " (57, 1)]"
      ]
     },
     "execution_count": 11,
     "metadata": {},
     "output_type": "execute_result"
    }
   ],
   "source": [
    "sorted(Counter(entities_text_lengths).items(), key=lambda x: x[0])"
   ]
  },
  {
   "cell_type": "code",
   "execution_count": 12,
   "id": "c144f03e",
   "metadata": {},
   "outputs": [],
   "source": [
    "label_entities_map = defaultdict(list)\n",
    "for entity in flatten_entities:\n",
    "    label_entities_map[entity[0]].append(entity[-1])"
   ]
  },
  {
   "cell_type": "code",
   "execution_count": 13,
   "id": "bfe15b7e",
   "metadata": {},
   "outputs": [
    {
     "name": "stdout",
     "output_type": "stream",
     "text": [
      "NHCS 犯罪嫌疑人\n",
      "Counter({3: 2711, 2: 162, 4: 28, 5: 19, 9: 9, 7: 4, 1: 1, 6: 1})\n",
      "NHVI 受害人\n",
      "Counter({3: 1274, 2: 20, 4: 4, 8: 1})\n",
      "NASI 被盗物品\n",
      "Counter({4: 342, 5: 275, 2: 267, 7: 203, 3: 199, 6: 199, 8: 190, 10: 146, 9: 139, 11: 112, 12: 101, 13: 71, 14: 60, 17: 33, 15: 32, 18: 26, 16: 25, 1: 21, 21: 17, 20: 16, 19: 13, 23: 10, 26: 9, 22: 8, 27: 6, 28: 5, 25: 5, 24: 5, 30: 4, 32: 2, 35: 2, 40: 2, 29: 2, 31: 2, 33: 1, 39: 1, 38: 1, 44: 1, 45: 1, 57: 1})\n",
      "NT 时间\n",
      "Counter({12: 215, 14: 155, 13: 150, 11: 147, 10: 136, 15: 105, 9: 79, 16: 62, 17: 37, 7: 32, 8: 30, 18: 14, 5: 12, 6: 10, 22: 7, 4: 7, 3: 6, 2: 6, 19: 5, 20: 4, 23: 3, 24: 1, 26: 1, 21: 1, 32: 1})\n",
      "NS 地点\n",
      "Counter({5: 99, 14: 91, 17: 87, 15: 87, 6: 83, 19: 78, 18: 78, 16: 74, 4: 71, 12: 70, 13: 69, 11: 69, 20: 68, 9: 63, 7: 62, 23: 57, 8: 53, 22: 52, 21: 50, 10: 39, 24: 30, 3: 28, 25: 23, 2: 21, 26: 18, 28: 16, 27: 15, 31: 8, 29: 8, 34: 4, 32: 3, 33: 3, 30: 1, 37: 1, 36: 1})\n",
      "NCGV 物品价值\n",
      "Counter({8: 255, 5: 194, 7: 187, 4: 122, 9: 67, 6: 64, 11: 20, 10: 19, 3: 15, 12: 2, 13: 1, 20: 1})\n",
      "NO 组织机构\n",
      "Counter({9: 94, 4: 81, 6: 45, 12: 22, 10: 21, 8: 18, 11: 17, 5: 15, 13: 6, 16: 6, 7: 6, 15: 5, 14: 3, 17: 3, 18: 2, 20: 1, 3: 1})\n",
      "NATS 作案工具\n",
      "Counter({3: 83, 2: 80, 5: 32, 4: 28, 15: 9, 13: 9, 8: 7, 6: 7, 12: 6, 7: 6, 16: 6, 11: 5, 20: 5, 19: 3, 21: 2, 9: 2, 10: 2, 26: 1, 24: 1})\n",
      "NCSP 盗窃获利\n",
      "Counter({4: 58, 5: 46, 7: 25, 8: 23, 3: 13, 6: 12, 9: 4, 11: 3, 15: 1, 10: 1})\n",
      "NCSM 被盗货币\n",
      "Counter({8: 74, 7: 70, 6: 55, 10: 51, 9: 47, 5: 33, 11: 24, 4: 23, 12: 12, 2: 9, 3: 7, 13: 5, 35: 2, 14: 2, 15: 2, 17: 2})\n"
     ]
    }
   ],
   "source": [
    "for label, entities in label_entities_map.items():\n",
    "    print(label, utils.LABEL_MEANING_MAP[label])\n",
    "    print(Counter([len(entity) for entity in entities]))\n",
    "    entities = sorted(list(set(entities)), key=len)\n",
    "    with open(f\"tmp/{label}_{utils.LABEL_MEANING_MAP[label]}.txt\", \"w\") as f:\n",
    "        f.writelines([entity + \"\\n\" for entity in entities])"
   ]
  }
 ],
 "metadata": {
  "kernelspec": {
   "display_name": "Python 3",
   "language": "python",
   "name": "python3"
  },
  "language_info": {
   "codemirror_mode": {
    "name": "ipython",
    "version": 3
   },
   "file_extension": ".py",
   "mimetype": "text/x-python",
   "name": "python",
   "nbconvert_exporter": "python",
   "pygments_lexer": "ipython3",
   "version": "3.8.5"
  }
 },
 "nbformat": 4,
 "nbformat_minor": 5
}
